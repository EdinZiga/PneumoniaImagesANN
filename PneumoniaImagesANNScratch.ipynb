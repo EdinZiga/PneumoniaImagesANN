{
 "cells": [
  {
   "cell_type": "code",
   "execution_count": null,
   "id": "f5acb403",
   "metadata": {},
   "outputs": [],
   "source": [
    "##CS404 Artifical Intelligence Project\n",
    "##Supplementary code to go with paper\n",
    "##Adnan Silajdzic\n",
    "##Edin Ziga\n",
    "##Mirza Redzepovic"
   ]
  },
  {
   "cell_type": "code",
   "execution_count": null,
   "id": "767e9310",
   "metadata": {},
   "outputs": [],
   "source": [
    "!pip install pillow\n",
    "!pip install tqdm\n",
    "!pip install numpy\n",
    "!pip install tensorflow\n",
    "!pip install pydot\n",
    "!pip install pydot_ng "
   ]
  },
  {
   "cell_type": "code",
   "execution_count": 34,
   "id": "5b9b975a",
   "metadata": {},
   "outputs": [],
   "source": [
    "import os\n",
    "import numpy as np\n",
    "import pydot\n",
    "import graphviz\n",
    "import random\n",
    "\n",
    "from PIL import Image\n",
    "from tqdm import tqdm\n",
    "\n",
    "#TensorFlow implementation\n",
    "from tensorflow.keras.models import Sequential\n",
    "from tensorflow.keras.layers import Dense\n",
    "from tensorflow.keras.utils import plot_model"
   ]
  },
  {
   "cell_type": "code",
   "execution_count": 35,
   "id": "85c5645d",
   "metadata": {},
   "outputs": [
    {
     "name": "stderr",
     "output_type": "stream",
     "text": [
      "Loading Normal Training Data: 100%|████████████████████████████████████████████████| 1341/1341 [00:16<00:00, 79.59it/s]\n",
      "Loading Pneumonia Training Data: 100%|████████████████████████████████████████████| 3875/3875 [00:15<00:00, 252.80it/s]\n",
      "Loading Normal Testing Data: 100%|██████████████████████████████████████████████████| 234/234 [00:02<00:00, 113.41it/s]\n",
      "Loading Pneumonia Testing Data: 100%|███████████████████████████████████████████████| 390/390 [00:01<00:00, 298.02it/s]"
     ]
    },
    {
     "name": "stdout",
     "output_type": "stream",
     "text": [
      "Images successfully loaded\n",
      "All images are grayscaled and are 48 by 48\n",
      "Training data size - 5216\n",
      "Testing data size - 624\n"
     ]
    },
    {
     "name": "stderr",
     "output_type": "stream",
     "text": [
      "\n"
     ]
    }
   ],
   "source": [
    "#LOAD IMAGES\n",
    "\n",
    "# Parameters\n",
    "imageSize = 48\n",
    "# Set the desired size (in this case, 28x28)\n",
    "size = (imageSize, imageSize)\n",
    "\n",
    "#Directory of chest_xray\\train\\NORMAL\n",
    "directory = r\"D:\\PythonProjects\\PneumoniaImagesANN\\chest_xray\\train\\NORMAL\"\n",
    "\n",
    "NormalTraining = []\n",
    "for filename in tqdm(os.listdir(directory), desc = \"Loading Normal Training Data\"):\n",
    "    # Load the image\n",
    "    image = Image.open(os.path.join(directory, filename))\n",
    "    image = image.convert('L')\n",
    "    image = image.resize(size)\n",
    "    pixels = list(image.getdata())\n",
    "    pixels_normalized = [pixel/255.0 for pixel in pixels]\n",
    "    NormalTraining.append(pixels_normalized)\n",
    "    \n",
    "#Directory of chest_xray\\train\\PNEUMONIA\n",
    "directory = r\"D:\\PythonProjects\\PneumoniaImagesANN\\chest_xray\\train\\PNEUMONIA\"\n",
    "\n",
    "PneumoniaTraining = []\n",
    "for filename in tqdm(os.listdir(directory), desc = \"Loading Pneumonia Training Data\"):\n",
    "    image = Image.open(os.path.join(directory, filename))\n",
    "    image = image.convert('L')\n",
    "    image = image.resize(size)\n",
    "    pixels = list(image.getdata())\n",
    "    pixels_normalized = [pixel/255.0 for pixel in pixels]\n",
    "    PneumoniaTraining.append(pixels_normalized)\n",
    "\n",
    "#Directory of chest_xray\\test\\NORMAL\n",
    "directory = r\"D:\\PythonProjects\\PneumoniaImagesANN\\chest_xray\\test\\NORMAL\"  \n",
    "    \n",
    "NormalTesting = []\n",
    "for filename in tqdm(os.listdir(directory), desc = \"Loading Normal Testing Data\"):\n",
    "    image = Image.open(os.path.join(directory, filename))\n",
    "    image = image.convert('L')\n",
    "    image = image.resize(size)\n",
    "    pixels = list(image.getdata())\n",
    "    pixels_normalized = [pixel/255.0 for pixel in pixels]\n",
    "    NormalTesting.append(pixels_normalized)\n",
    "\n",
    "#Directory of chest_xray\\test\\PNEUMONIA\n",
    "directory = r\"D:\\PythonProjects\\PneumoniaImagesANN\\chest_xray\\test\\PNEUMONIA\"\n",
    "    \n",
    "PneumoniaTesting = []\n",
    "for filename in tqdm(os.listdir(directory), desc = \"Loading Pneumonia Testing Data\"):\n",
    "    # Load the image\n",
    "    image = Image.open(os.path.join(directory, filename))\n",
    "    image = image.convert('L')\n",
    "    image = image.resize(size)\n",
    "    pixels = list(image.getdata())\n",
    "    pixels_normalized = [pixel/255.0 for pixel in pixels]\n",
    "    PneumoniaTesting.append(pixels_normalized)\n",
    "    \n",
    "print(\"Images successfully loaded\")\n",
    "print(f\"All images are grayscaled and are {imageSize} by {imageSize}\")\n",
    "\n",
    "training_data = NormalTraining + PneumoniaTraining\n",
    "testing_data = NormalTesting + PneumoniaTesting\n",
    "\n",
    "training_labels = [0]*len(NormalTraining) + [1]*len(PneumoniaTraining)\n",
    "testing_labels = [0]*len(NormalTesting) + [1]*len(PneumoniaTesting)\n",
    "\n",
    "print(f\"Training data size - {len(training_data)}\")\n",
    "print(f\"Testing data size - {len(testing_data)}\")"
   ]
  },
  {
   "cell_type": "code",
   "execution_count": 36,
   "id": "0b757450",
   "metadata": {},
   "outputs": [],
   "source": [
    "# Dense layer\n",
    "class Layer_Dense :\n",
    "    # Layer initialization\n",
    "    def __init__ ( self , n_inputs , n_neurons ,\n",
    "                weight_regularizer_l1 = 0 , weight_regularizer_l2 = 0 ,\n",
    "                bias_regularizer_l1 = 0 , bias_regularizer_l2 = 0 ):\n",
    "        # Initialize weights and biases\n",
    "        self.weights = 0.01 * np.random.randn(n_inputs, n_neurons)\n",
    "        self.biases = np.zeros(( 1 , n_neurons))\n",
    "        # Set regularization strength\n",
    "        self.weight_regularizer_l1 = weight_regularizer_l1\n",
    "        self.weight_regularizer_l2 = weight_regularizer_l2\n",
    "        self.bias_regularizer_l1 = bias_regularizer_l1\n",
    "        self.bias_regularizer_l2 = bias_regularizer_l2\n",
    "    # Forward pass\n",
    "    def forward ( self , inputs ):\n",
    "        # Remember input values\n",
    "        self.inputs = inputs\n",
    "        # Calculate output values from inputs, weights and biases\n",
    "        self.output = np.dot(inputs, self.weights) + self.biases\n",
    "    # Backward pass\n",
    "    def backward ( self , dvalues ):\n",
    "        # Gradients on parameters\n",
    "        self.dweights = np.dot(self.inputs.T, dvalues)\n",
    "        self.dbiases = np.sum(dvalues, axis = 0 , keepdims = True )\n",
    "        # Gradients on regularization\n",
    "        # L1 on weights\n",
    "        if self.weight_regularizer_l1 > 0 :\n",
    "            dL1 = np.ones_like(self.weights)\n",
    "            dL1[self.weights < 0 ] = - 1\n",
    "            self.dweights += self.weight_regularizer_l1 * dL1\n",
    "        # L2 on weights\n",
    "        if self.weight_regularizer_l2 > 0 :\n",
    "            self.dweights += 2 * self.weight_regularizer_l2 * \\\n",
    "            self.weights\n",
    "        # L1 on biases\n",
    "        if self.bias_regularizer_l1 > 0 :\n",
    "            dL1 = np.ones_like(self.biases)\n",
    "            dL1[self.biases < 0 ] = - 1\n",
    "            self.dbiases += self.bias_regularizer_l1 * dL1\n",
    "        # L2 on biases\n",
    "        if self.bias_regularizer_l2 > 0 :\n",
    "            self.dbiases += 2 * self.bias_regularizer_l2 * \\\n",
    "            self.biases\n",
    "            # Gradient on values\n",
    "        self.dinputs = np.dot(dvalues, self.weights.T)\n",
    "        "
   ]
  },
  {
   "cell_type": "code",
   "execution_count": 37,
   "id": "b66af352",
   "metadata": {},
   "outputs": [],
   "source": [
    "# Dropout\n",
    "class Layer_Dropout :\n",
    "    # Init\n",
    "    def __init__ ( self , rate ):\n",
    "        # Store rate, we invert it as for example for dropout\n",
    "        # of 0.1 we need success rate of 0.9\n",
    "        self.rate = 1 - rate\n",
    "    # Forward pass\n",
    "    def forward ( self , inputs ):\n",
    "        # Save input values\n",
    "        self.inputs = inputs\n",
    "        # Generate and save scaled mask\n",
    "        self.binary_mask = np.random.binomial( 1 , self.rate,\n",
    "        size = inputs.shape) / self.rate\n",
    "        # Apply mask to output values\n",
    "        self.output = inputs * self.binary_mask\n",
    "    # Backward pass\n",
    "    def backward ( self , dvalues ):\n",
    "        # Gradient on values\n",
    "        self.dinputs = dvalues * self.binary_mask"
   ]
  },
  {
   "cell_type": "code",
   "execution_count": 38,
   "id": "d21db059",
   "metadata": {},
   "outputs": [],
   "source": [
    "# ReLU activation\n",
    "class Activation_ReLU :\n",
    "    # Forward pass\n",
    "    def forward ( self , inputs ):\n",
    "        # Remember input values\n",
    "        self.inputs = inputs\n",
    "        # Calculate output values from inputs\n",
    "        self.output = np.maximum( 0 , inputs)\n",
    "    # Backward pass\n",
    "    def backward ( self , dvalues ):\n",
    "        # Since we need to modify original variable,\n",
    "        # let's make a copy of values first\n",
    "        self.dinputs = dvalues.copy()\n",
    "        # Zero gradient where input values were negative\n",
    "        self.dinputs[self.inputs <= 0 ] = 0"
   ]
  },
  {
   "cell_type": "code",
   "execution_count": 39,
   "id": "1d1c58fb",
   "metadata": {},
   "outputs": [],
   "source": [
    "class Activation_TanH:\n",
    "    # Forward pass\n",
    "    def forward(self, inputs):\n",
    "        self.output = np.tanh(inputs)\n",
    "        \n",
    "    # Backward pass\n",
    "    def backward(self, dvalues):\n",
    "        # Calculate derivative of tanh function\n",
    "        derivative = 1 - self.output**2\n",
    "        # Chain rule\n",
    "        self.dinputs = dvalues * derivative\n"
   ]
  },
  {
   "cell_type": "code",
   "execution_count": 40,
   "id": "870614be",
   "metadata": {},
   "outputs": [],
   "source": [
    "class Activation_Softmax :\n",
    "    # Forward pass\n",
    "    def forward ( self , inputs ):\n",
    "        # Remember input values\n",
    "        self.inputs = inputs\n",
    "        # Get unnormalized probabilities\n",
    "        exp_values = np.exp(inputs - np.max(inputs, axis = 1 ,\n",
    "        keepdims = True ))\n",
    "        # Normalize them for each sample\n",
    "        probabilities = exp_values / np.sum(exp_values, axis = 1 ,\n",
    "        keepdims = True )\n",
    "        self.output = probabilities\n",
    "    # Backward pass\n",
    "    def backward ( self , dvalues ):\n",
    "        # Create uninitialized array\n",
    "        self.dinputs = np.empty_like(dvalues)\n",
    "        # Enumerate outputs and gradients\n",
    "        for index, (single_output, single_dvalues) in \\\n",
    "            enumerate ( zip (self.output, dvalues)):\n",
    "            # Flatten output array\n",
    "            single_output = single_output.reshape( - 1 , 1 )\n",
    "            # Calculate Jacobian matrix of the output and\n",
    "            jacobian_matrix = np.diagflat(single_output) - \\\n",
    "            np.dot(single_output, single_output.T)\n",
    "            # Calculate sample-wise gradient\n",
    "            # and add it to the array of sample gradients\n",
    "            self.dinputs[index] = np.dot(jacobian_matrix,\n",
    "            single_dvalues)"
   ]
  },
  {
   "cell_type": "code",
   "execution_count": 41,
   "id": "d134513d",
   "metadata": {},
   "outputs": [],
   "source": [
    "class Activation_Sigmoid :\n",
    "    # Forward pass\n",
    "    def forward ( self , inputs ):\n",
    "        # Save input and calculate/save output\n",
    "        # of the sigmoid function\n",
    "        self.inputs = inputs\n",
    "        self.output = 1 / ( 1 + np.exp( - inputs))\n",
    "    # Backward pass\n",
    "    def backward ( self , dvalues ):\n",
    "        # Derivative - calculates from output of the sigmoid function\n",
    "        self.dinputs = dvalues * ( 1 - self.output) * self.output"
   ]
  },
  {
   "cell_type": "code",
   "execution_count": 42,
   "id": "1ba1bee8",
   "metadata": {},
   "outputs": [],
   "source": [
    "# SGD optimizer\n",
    "class Optimizer_SGD :\n",
    "    # Initialize optimizer - set settings,\n",
    "    # learning rate of 1. is default for this optimizer\n",
    "    def __init__ ( self , learning_rate = 1. , decay = 0. , momentum = 0. ):\n",
    "        self.learning_rate = learning_rate\n",
    "        self.current_learning_rate = learning_rate\n",
    "        self.decay = decay\n",
    "        self.iterations = 0\n",
    "        self.momentum = momentum\n",
    "    # Call once before any parameter updates\n",
    "    def pre_update_params ( self ):\n",
    "        if self.decay:\n",
    "            self.current_learning_rate = self.learning_rate * \\\n",
    "            ( 1. / ( 1. + self.decay * self.iterations))\n",
    "            \n",
    "    # Update parameters\n",
    "    def update_params ( self , layer ):\n",
    "        # If we use momentum\n",
    "        if self.momentum:\n",
    "            # If layer does not contain momentum arrays, create them\n",
    "            # filled with zeros\n",
    "            if not hasattr (layer, 'weight_momentums' ):\n",
    "                layer.weight_momentums = np.zeros_like(layer.weights)\n",
    "                # If there is no momentum array for weights\n",
    "                # The array doesn't exist for biases yet either.\n",
    "                layer.bias_momentums = np.zeros_like(layer.biases)\n",
    "            # Build weight updates with momentum - take previous\n",
    "            # updates multiplied by retain factor and update with\n",
    "            # current gradients\n",
    "            weight_updates = \\\n",
    "                self.momentum * layer.weight_momentums - \\\n",
    "                self.current_learning_rate * layer.dweights\n",
    "            layer.weight_momentums = weight_updates\n",
    "            # Build bias updates\n",
    "            bias_updates = \\\n",
    "                self.momentum * layer.bias_momentums - \\\n",
    "                self.current_learning_rate * layer.dbiases\n",
    "            layer.bias_momentums = bias_updates\n",
    "            # Vanilla SGD updates (as before momentum update)\n",
    "        else:\n",
    "            weight_updates = - self.current_learning_rate * \\\n",
    "            layer.dweights\n",
    "            bias_updates = - self.current_learning_rate * \\\n",
    "            layer.dbiases\n",
    "        # Update weights and biases using either\n",
    "        # vanilla or momentum updates\n",
    "        layer.weights += weight_updates\n",
    "        layer.biases += bias_updates\n",
    "    # Call once after any parameter updates\n",
    "    def post_update_params ( self ):\n",
    "        self.iterations += 1"
   ]
  },
  {
   "cell_type": "code",
   "execution_count": 43,
   "id": "d08f9a86",
   "metadata": {},
   "outputs": [],
   "source": [
    "# Adagrad optimizer\n",
    "class Optimizer_Adagrad :\n",
    "    # Initialize optimizer - set settings\n",
    "    def __init__ ( self , learning_rate = 1. , decay = 0. , epsilon = 1e-7 ):\n",
    "        self.learning_rate = learning_rate\n",
    "        self.current_learning_rate = learning_rate\n",
    "        self.decay = decay\n",
    "        self.iterations = 0\n",
    "        self.epsilon = epsilon\n",
    "    # Call once before any parameter updates\n",
    "    def pre_update_params ( self ):\n",
    "        if self.decay:\n",
    "            self.current_learning_rate = self.learning_rate * \\\n",
    "            ( 1. / ( 1. + self.decay * self.iterations))\n",
    "    # Update parameters\n",
    "    def update_params ( self , layer ):\n",
    "        # If layer does not contain cache arrays,\n",
    "        # create them filled with zeros\n",
    "        if not hasattr (layer, 'weight_cache' ):\n",
    "            layer.weight_cache = np.zeros_like(layer.weights)\n",
    "            layer.bias_cache = np.zeros_like(layer.biases)\n",
    "        # Update cache with squared current gradients\n",
    "        layer.weight_cache += layer.dweights ** 2\n",
    "        layer.bias_cache += layer.dbiases ** 2\n",
    "        # Vanilla SGD parameter update + normalization\n",
    "        # with square rooted cache\n",
    "        layer.weights += - self.current_learning_rate * \\\n",
    "        layer.dweights / \\\n",
    "        (np.sqrt(layer.weight_cache) + self.epsilon)\n",
    "        layer.biases += - self.current_learning_rate * \\\n",
    "        layer.dbiases / \\\n",
    "        (np.sqrt(layer.bias_cache) + self.epsilon)\n",
    "        # Call once after any parameter updates\n",
    "    def post_update_params ( self ):\n",
    "        self.iterations += 1"
   ]
  },
  {
   "cell_type": "code",
   "execution_count": 44,
   "id": "c8011af9",
   "metadata": {},
   "outputs": [],
   "source": [
    "# RMSprop optimizer\n",
    "class Optimizer_RMSprop :\n",
    "    # Initialize optimizer - set settings\n",
    "    def __init__ ( self , learning_rate = 0.001 , decay = 0. , epsilon = 1e-7 ,\n",
    "    rho = 0.9 ):\n",
    "        self.learning_rate = learning_rate\n",
    "        self.current_learning_rate = learning_rate\n",
    "        self.decay = decay\n",
    "        self.iterations = 0\n",
    "        self.epsilon = epsilon\n",
    "        self.rho = rho\n",
    "    # Call once before any parameter updates\n",
    "    def pre_update_params ( self ):\n",
    "        if self.decay:\n",
    "            self.current_learning_rate = self.learning_rate * \\\n",
    "            ( 1. / ( 1. + self.decay * self.iterations))\n",
    "    # Update parameters\n",
    "    def update_params ( self , layer ):\n",
    "        # If layer does not contain cache arrays,\n",
    "        # create them filled with zeros\n",
    "        if not hasattr (layer, 'weight_cache' ):\n",
    "            layer.weight_cache = np.zeros_like(layer.weights)\n",
    "            layer.bias_cache = np.zeros_like(layer.biases)\n",
    "        # Update cache with squared current gradients\n",
    "        layer.weight_cache = self.rho * layer.weight_cache + \\\n",
    "        ( 1 - self.rho) * layer.dweights ** 2\n",
    "        layer.bias_cache = self.rho * layer.bias_cache + \\\n",
    "        ( 1 - self.rho) * layer.dbiases ** 2\n",
    "        # Vanilla SGD parameter update + normalization\n",
    "        # with square rooted cache\n",
    "        layer.weights += - self.current_learning_rate * \\\n",
    "        layer.dweights / \\\n",
    "        (np.sqrt(layer.weight_cache) + self.epsilon)\n",
    "        layer.biases += - self.current_learning_rate * \\\n",
    "        layer.dbiases / \\\n",
    "        (np.sqrt(layer.bias_cache) + self.epsilon)\n",
    "        # Call once after any parameter updates\n",
    "    def post_update_params ( self ):\n",
    "        self.iterations += 1"
   ]
  },
  {
   "cell_type": "code",
   "execution_count": 45,
   "id": "eefdaf09",
   "metadata": {},
   "outputs": [],
   "source": [
    "# Adam optimizer\n",
    "class Optimizer_Adam :\n",
    "    # Initialize optimizer - set settings\n",
    "    def __init__ ( self , learning_rate = 0.001 , decay = 0. , epsilon = 1e-7 ,\n",
    "    beta_1 = 0.9 , beta_2 = 0.999 ):\n",
    "        self.learning_rate = learning_rate\n",
    "        self.current_learning_rate = learning_rate\n",
    "        self.decay = decay\n",
    "        self.iterations = 0\n",
    "        self.epsilon = epsilon\n",
    "        self.beta_1 = beta_1\n",
    "        self.beta_2 = beta_2\n",
    "    # Call once before any parameter updates\n",
    "    def pre_update_params ( self ):\n",
    "        if self.decay:\n",
    "            self.current_learning_rate = self.learning_rate * \\\n",
    "            ( 1. / ( 1. + self.decay * self.iterations))\n",
    "    # Update parameters\n",
    "    def update_params ( self , layer ):\n",
    "        # If layer does not contain cache arrays,\n",
    "        # create them filled with zeros\n",
    "        if not hasattr (layer, 'weight_cache' ):\n",
    "            layer.weight_momentums = np.zeros_like(layer.weights)\n",
    "            layer.weight_cache = np.zeros_like(layer.weights)\n",
    "            layer.bias_momentums = np.zeros_like(layer.biases)\n",
    "            layer.bias_cache = np.zeros_like(layer.biases)\n",
    "        # Update momentum with current gradients\n",
    "        layer.weight_momentums = self.beta_1 * \\\n",
    "            layer.weight_momentums + \\\n",
    "            ( 1 - self.beta_1) * layer.dweights\n",
    "        layer.bias_momentums = self.beta_1 * \\\n",
    "            layer.bias_momentums + \\\n",
    "            ( 1 - self.beta_1) * layer.dbiases\n",
    "        # Get corrected momentum\n",
    "        # self.iteration is 0 at first pass\n",
    "        # and we need to start with 1 here\n",
    "        weight_momentums_corrected = layer.weight_momentums / \\\n",
    "            ( 1 - self.beta_1 ** (self.iterations + 1 ))\n",
    "        bias_momentums_corrected = layer.bias_momentums / \\\n",
    "            ( 1 - self.beta_1 ** (self.iterations + 1 ))\n",
    "        # Update cache with squared current gradients\n",
    "        layer.weight_cache = self.beta_2 * layer.weight_cache + \\\n",
    "            ( 1 - self.beta_2) * layer.dweights ** 2\n",
    "        layer.bias_cache = self.beta_2 * layer.bias_cache + \\\n",
    "            ( 1 - self.beta_2) * layer.dbiases ** 2\n",
    "        # Get corrected cache\n",
    "        weight_cache_corrected = layer.weight_cache / \\\n",
    "            ( 1 - self.beta_2 ** (self.iterations + 1 ))\n",
    "        bias_cache_corrected = layer.bias_cache / \\\n",
    "            ( 1 - self.beta_2 ** (self.iterations + 1 ))\n",
    "        # Vanilla SGD parameter update + normalization\n",
    "        # with square rooted cache\n",
    "        layer.weights += - self.current_learning_rate * \\\n",
    "            weight_momentums_corrected / \\\n",
    "            (np.sqrt(weight_cache_corrected) +\n",
    "            self.epsilon)\n",
    "        layer.biases += - self.current_learning_rate * \\\n",
    "                bias_momentums_corrected / \\\n",
    "                (np.sqrt(bias_cache_corrected) +\n",
    "                self.epsilon)\n",
    "    # Call once after any parameter updates\n",
    "    def post_update_params ( self ):\n",
    "        self.iterations += 1"
   ]
  },
  {
   "cell_type": "code",
   "execution_count": 46,
   "id": "af113a2b",
   "metadata": {},
   "outputs": [],
   "source": [
    "# Common loss class\n",
    "class Loss :\n",
    "    # Regularization loss calculation\n",
    "    def regularization_loss ( self , layer ):\n",
    "        # 0 by default\n",
    "        regularization_loss = 0\n",
    "        # L1 regularization - weights\n",
    "        # calculate only when factor greater than 0\n",
    "        if layer.weight_regularizer_l1 > 0 :\n",
    "            regularization_loss += layer.weight_regularizer_l1 * \\\n",
    "            np.sum(np.abs(layer.weights))\n",
    "        # L2 regularization - weights\n",
    "        if layer.weight_regularizer_l2 > 0 :\n",
    "            regularization_loss += layer.weight_regularizer_l2 * \\\n",
    "            np.sum(layer.weights * \\\n",
    "            layer.weights)\n",
    "        # L1 regularization - biases\n",
    "        # calculate only when factor greater than 0\n",
    "        if layer.bias_regularizer_l1 > 0 :\n",
    "            regularization_loss += layer.bias_regularizer_l1 * \\\n",
    "            np.sum(np.abs(layer.biases))\n",
    "        # L2 regularization - biases\n",
    "        if layer.bias_regularizer_l2 > 0 :\n",
    "            regularization_loss += layer.bias_regularizer_l2 * \\\n",
    "            np.sum(layer.biases * \\\n",
    "            layer.biases)\n",
    "        return regularization_loss\n",
    "    # Calculates the data and regularization losses\n",
    "    # given model output and ground truth values\n",
    "    def calculate ( self , output , y ):\n",
    "        # Calculate sample losses\n",
    "        sample_losses = self.forward(output, y)\n",
    "        # Calculate mean loss\n",
    "        data_loss = np.mean(sample_losses)\n",
    "        # Return loss\n",
    "        return data_loss"
   ]
  },
  {
   "cell_type": "code",
   "execution_count": 47,
   "id": "66546469",
   "metadata": {},
   "outputs": [],
   "source": [
    "# Cross-entropy loss\n",
    "class Loss_CategoricalCrossentropy ( Loss ):\n",
    "    # Forward pass\n",
    "    def forward ( self , y_pred , y_true ):\n",
    "        # Number of samples in a batch\n",
    "        samples = len (y_pred)\n",
    "        # Clip data to prevent division by 0\n",
    "        # Clip both sides to not drag mean towards any value\n",
    "        y_pred_clipped = np.clip(y_pred, 1e-7 , 1 - 1e-7 )\n",
    "        # Probabilities for target values -\n",
    "        # only if categorical labels\n",
    "        if len (y_true.shape) == 1 :\n",
    "            correct_confidences = y_pred_clipped[\n",
    "            range (samples),\n",
    "            y_true\n",
    "            ]\n",
    "        # Mask values - only for one-hot encoded labels\n",
    "        elif len (y_true.shape) == 2 :\n",
    "            correct_confidences = np.sum(\n",
    "            y_pred_clipped * y_true,\n",
    "            axis = 1\n",
    "            )\n",
    "            # Losses\n",
    "        negative_log_likelihoods = - np.log(correct_confidences)\n",
    "        return negative_log_likelihoods\n",
    "\n",
    "    # Backward pass\n",
    "    def backward ( self , dvalues , y_true ):\n",
    "        # Number of samples\n",
    "        samples = len (dvalues)\n",
    "        # Number of labels in every sample\n",
    "        # We'll use the first sample to count them\n",
    "        labels = len (dvalues[ 0 ])\n",
    "        # If labels are sparse, turn them into one-hot vector\n",
    "        if len (y_true.shape) == 1 :\n",
    "            y_true = np.eye(labels)[y_true]\n",
    "        # Calculate gradient\n",
    "        self.dinputs = - y_true / dvalues\n",
    "        # Normalize gradient\n",
    "        self.dinputs = self.dinputs / samples"
   ]
  },
  {
   "cell_type": "code",
   "execution_count": 48,
   "id": "8b324b8c",
   "metadata": {},
   "outputs": [],
   "source": [
    "# Softmax classifier - combined Softmax activation\n",
    "# and cross-entropy loss for faster backward step\n",
    "class Activation_Softmax_Loss_CategoricalCrossentropy ():\n",
    "    # Creates activation and loss function objects\n",
    "    def __init__ ( self ):\n",
    "        self.activation = Activation_Softmax()\n",
    "        self.loss = Loss_CategoricalCrossentropy()\n",
    "    # Forward pass\n",
    "    def forward ( self , inputs , y_true ):\n",
    "        # Output layer's activation function\n",
    "        self.activation.forward(inputs)\n",
    "        # Set the output\n",
    "        self.output = self.activation.output\n",
    "        # Calculate and return loss value\n",
    "        return self.loss.calculate(self.output, y_true)\n",
    "    # Backward pass\n",
    "    def backward ( self , dvalues , y_true ):\n",
    "        # Number of samples\n",
    "        samples = len (dvalues)\n",
    "        # If labels are one-hot encoded,\n",
    "        # turn them into discrete values\n",
    "        if len (y_true.shape) == 2 :\n",
    "            y_true = np.argmax(y_true, axis = 1 )\n",
    "        # Copy so we can safely modify\n",
    "        self.dinputs = dvalues.copy()\n",
    "        # Calculate gradient\n",
    "        self.dinputs[ range (samples), y_true] -= 1\n",
    "        # Normalize gradient\n",
    "        self.dinputs = self.dinputs / samples"
   ]
  },
  {
   "cell_type": "code",
   "execution_count": 49,
   "id": "bfb1d393",
   "metadata": {},
   "outputs": [],
   "source": [
    "# Binary cross-entropy loss\n",
    "class Loss_BinaryCrossentropy ( Loss ):\n",
    "    # Forward pass\n",
    "    def forward ( self , y_pred , y_true ):\n",
    "        # Clip data to prevent division by 0\n",
    "        # Clip both sides to not drag mean towards any value\n",
    "        y_pred_clipped = np.clip(y_pred, 1e-7 , 1 - 1e-7 )\n",
    "        # Calculate sample-wise loss\n",
    "        sample_losses = - (y_true * np.log(y_pred_clipped) +\n",
    "        ( 1 - y_true) * np.log( 1 - y_pred_clipped))\n",
    "        sample_losses = np.mean(sample_losses, axis =- 1 )\n",
    "        # Return losses\n",
    "        return sample_losses\n",
    "    # Backward pass\n",
    "    def backward ( self , dvalues , y_true ):\n",
    "        # Number of samples\n",
    "        samples = len (dvalues)\n",
    "        # Number of outputs in every sample\n",
    "        # We'll use the first sample to count them\n",
    "        outputs = len (dvalues[ 0 ])\n",
    "        # Clip data to prevent division by 0\n",
    "        # Clip both sides to not drag mean towards any value\n",
    "        clipped_dvalues = np.clip(dvalues, 1e-7 , 1 - 1e-7 )\n",
    "        # Calculate gradient\n",
    "        self.dinputs = - (y_true / clipped_dvalues -\n",
    "        ( 1 - y_true) / ( 1 - clipped_dvalues)) / outputs\n",
    "        # Normalize gradient\n",
    "        self.dinputs = self.dinputs / samples"
   ]
  },
  {
   "cell_type": "code",
   "execution_count": 88,
   "id": "149174f8",
   "metadata": {},
   "outputs": [
    {
     "name": "stdout",
     "output_type": "stream",
     "text": [
      "Training data full size - 5216\n",
      "Testing data full size - 624\n",
      "Training data sample size - 1800\n",
      "Testing data sample size - 200\n",
      "No. epochs selected - 40\n"
     ]
    },
    {
     "name": "stderr",
     "output_type": "stream",
     "text": [
      "Loading Training Data: 100%|███████████████████████████████████████████████████| 1800/1800 [00:00<00:00, 300248.45it/s]\n",
      "Loading Testing Data: 100%|██████████████████████████████████████████████████████████████████| 200/200 [00:00<?, ?it/s]\n",
      "Training Network:  10%|██████▌                                                          | 4/40 [00:03<00:29,  1.24it/s]"
     ]
    },
    {
     "name": "stdout",
     "output_type": "stream",
     "text": [
      "epoch: 5 , acc: 0.528 , loss: 0.585 (data_loss: 0.574 , reg_loss: 0.011 ), lr: 0.000999700089973008 \n"
     ]
    },
    {
     "name": "stderr",
     "output_type": "stream",
     "text": [
      "Training Network:  22%|██████████████▋                                                  | 9/40 [00:07<00:25,  1.24it/s]"
     ]
    },
    {
     "name": "stdout",
     "output_type": "stream",
     "text": [
      "epoch: 10 , acc: 0.531 , loss: 0.675 (data_loss: 0.664 , reg_loss: 0.011 ), lr: 0.0009992006394884093 \n"
     ]
    },
    {
     "name": "stderr",
     "output_type": "stream",
     "text": [
      "Training Network:  35%|██████████████████████▍                                         | 14/40 [00:11<00:20,  1.25it/s]"
     ]
    },
    {
     "name": "stdout",
     "output_type": "stream",
     "text": [
      "epoch: 15 , acc: 0.543 , loss: 0.492 (data_loss: 0.480 , reg_loss: 0.012 ), lr: 0.0009987016878058523 \n"
     ]
    },
    {
     "name": "stderr",
     "output_type": "stream",
     "text": [
      "Training Network:  48%|██████████████████████████████▍                                 | 19/40 [00:15<00:17,  1.17it/s]"
     ]
    },
    {
     "name": "stdout",
     "output_type": "stream",
     "text": [
      "epoch: 20 , acc: 0.458 , loss: 0.369 (data_loss: 0.356 , reg_loss: 0.012 ), lr: 0.0009982032341784787 \n"
     ]
    },
    {
     "name": "stderr",
     "output_type": "stream",
     "text": [
      "Training Network:  60%|██████████████████████████████████████▍                         | 24/40 [00:19<00:13,  1.20it/s]"
     ]
    },
    {
     "name": "stdout",
     "output_type": "stream",
     "text": [
      "epoch: 25 , acc: 0.507 , loss: 0.332 (data_loss: 0.319 , reg_loss: 0.013 ), lr: 0.0009977052778609198 \n"
     ]
    },
    {
     "name": "stderr",
     "output_type": "stream",
     "text": [
      "Training Network:  72%|██████████████████████████████████████████████▍                 | 29/40 [00:23<00:09,  1.20it/s]"
     ]
    },
    {
     "name": "stdout",
     "output_type": "stream",
     "text": [
      "epoch: 30 , acc: 0.455 , loss: 0.279 (data_loss: 0.267 , reg_loss: 0.012 ), lr: 0.000997207818109294 \n"
     ]
    },
    {
     "name": "stderr",
     "output_type": "stream",
     "text": [
      "Training Network:  85%|██████████████████████████████████████████████████████▍         | 34/40 [00:28<00:04,  1.21it/s]"
     ]
    },
    {
     "name": "stdout",
     "output_type": "stream",
     "text": [
      "epoch: 35 , acc: 0.473 , loss: 0.221 (data_loss: 0.209 , reg_loss: 0.012 ), lr: 0.000996710854181202 \n"
     ]
    },
    {
     "name": "stderr",
     "output_type": "stream",
     "text": [
      "Training Network:  98%|██████████████████████████████████████████████████████████████▍ | 39/40 [00:32<00:00,  1.23it/s]"
     ]
    },
    {
     "name": "stdout",
     "output_type": "stream",
     "text": [
      "epoch: 40 , acc: 0.483 , loss: 0.189 (data_loss: 0.177 , reg_loss: 0.012 ), lr: 0.0009962143853357243 \n"
     ]
    },
    {
     "name": "stderr",
     "output_type": "stream",
     "text": [
      "Training Network: 100%|████████████████████████████████████████████████████████████████| 40/40 [00:32<00:00,  1.21it/s]"
     ]
    },
    {
     "name": "stdout",
     "output_type": "stream",
     "text": [
      "Testing accuracy:  0.800 , Testing loss:  0.417 \n"
     ]
    },
    {
     "name": "stderr",
     "output_type": "stream",
     "text": [
      "\n"
     ]
    }
   ],
   "source": [
    "#RANDOM SAMPLING WITH REPLACEMENT\n",
    "print(f'Training data full size - {len(training_data)}')\n",
    "print(f'Testing data full size - {len(testing_data)}')\n",
    "\n",
    "#Parameters\n",
    "random.seed(10)\n",
    "trainingDataSize = 1800\n",
    "testingDataSize = 200\n",
    "noEpochs = 40\n",
    "\n",
    "print(f'Training data sample size - {trainingDataSize}')\n",
    "print(f'Testing data sample size - {testingDataSize}')\n",
    "print(f'No. epochs selected - {noEpochs}')\n",
    "\n",
    "training_data_sample=[]\n",
    "training_labels_sample=[]\n",
    "\n",
    "testing_data_sample=[]\n",
    "testing_labels_sample=[]\n",
    "\n",
    "for i in tqdm(range(trainingDataSize), desc = \"Loading Training Data\"):\n",
    "    randNum = random.randint(0, 1)\n",
    "    if randNum == 0:\n",
    "        randData = random.randint(0, len(NormalTraining)-1)\n",
    "        training_data_sample.append(NormalTraining[randData])\n",
    "        training_labels_sample.append(0)\n",
    "    else:\n",
    "        randData = random.randint(0, len(PneumoniaTraining)-1)\n",
    "        training_data_sample.append(PneumoniaTraining[randData])\n",
    "        training_labels_sample.append(1)\n",
    "        \n",
    "        \n",
    "for i in tqdm(range(testingDataSize), desc = \"Loading Testing Data\"):\n",
    "    randNum = random.randint(0, 1)\n",
    "    if randNum == 0:\n",
    "        randData = random.randint(0, len(NormalTesting)-1)\n",
    "        testing_data_sample.append(NormalTesting[randData])\n",
    "        testing_labels_sample.append(0)\n",
    "    else:\n",
    "        randData = random.randint(0, len(PneumoniaTesting)-1)\n",
    "        testing_data_sample.append(PneumoniaTesting[randData])\n",
    "        testing_labels_sample.append(1)\n",
    "        \n",
    "y=np.array(training_labels_sample)\n",
    "y = y.reshape( - 1 , 1 )\n",
    "\n",
    "dense1 = Layer_Dense( imageSize*imageSize , 1024 , weight_regularizer_l2 = 5e-5 ,\n",
    "                    bias_regularizer_l2 = 5e-5 )\n",
    "dense2 = Layer_Dense( 1024 , 512 )\n",
    "dense3 = Layer_Dense( 512 , 256 )\n",
    "dense4 = Layer_Dense( 256 , 1 )\n",
    "\n",
    "activation1 = Activation_TanH()\n",
    "activation2 = Activation_TanH()\n",
    "activation3 = Activation_TanH()\n",
    "activation4 = Activation_Sigmoid()\n",
    "\n",
    "# Create loss function\n",
    "loss_function = Loss_BinaryCrossentropy()\n",
    "# Create optimizer\n",
    "optimizer = Optimizer_Adam( learning_rate = 0.001 , decay = 0.0001 )\n",
    "\n",
    "for epoch in tqdm(range(1,noEpochs+1), desc = \"Training Network\"):\n",
    "    dense1.forward(np.array(training_data_sample))\n",
    "    activation1.forward(dense1.output)\n",
    "    \n",
    "    dense2.forward(activation1.output)\n",
    "    activation2.forward(dense2.output)\n",
    "    \n",
    "    dense3.forward(activation2.output)\n",
    "    activation3.forward(dense3.output)\n",
    "    \n",
    "    dense4.forward(activation3.output)\n",
    "    activation4.forward(dense4.output)\n",
    "    \n",
    "    data_loss = loss_function.calculate(activation4.output, y)\n",
    "    regularization_loss = \\\n",
    "        loss_function.regularization_loss(dense1) + \\\n",
    "        loss_function.regularization_loss(dense2)\n",
    "    loss = data_loss + regularization_loss\n",
    "    \n",
    "    predictions = (activation2.output > 0.5 ) * 1\n",
    "    accuracy = np.mean(predictions == y)\n",
    "    \n",
    "    if not epoch % 5 :\n",
    "        print ( f'epoch: {epoch} , ' +\n",
    "        f'acc: {accuracy:.3f} , ' +\n",
    "        f'loss: {loss:.3f} (' +\n",
    "        f'data_loss: {data_loss:.3f} , ' +\n",
    "        f'reg_loss: {regularization_loss:.3f} ), ' +\n",
    "        f'lr: {optimizer.current_learning_rate} ' )\n",
    "        \n",
    "        \n",
    "    # Backward pass\n",
    "    loss_function.backward(activation4.output, y)\n",
    "    activation4.backward(loss_function.dinputs)\n",
    "    dense4.backward(activation4.dinputs)\n",
    "    \n",
    "    activation3.backward(dense4.dinputs)\n",
    "    dense3.backward(activation3.dinputs)\n",
    "    \n",
    "    activation2.backward(dense3.dinputs)\n",
    "    dense2.backward(activation2.dinputs)\n",
    "    \n",
    "    activation1.backward(dense2.dinputs)\n",
    "    dense1.backward(np.array(activation1.dinputs))\n",
    "    \n",
    "    optimizer.pre_update_params()\n",
    "    optimizer.update_params(dense1)\n",
    "    optimizer.update_params(dense2)\n",
    "    optimizer.update_params(dense3)\n",
    "    optimizer.update_params(dense4)\n",
    "    optimizer.post_update_params()\n",
    "    \n",
    "\n",
    "    \n",
    "y=np.array(testing_labels_sample)\n",
    "y = y.reshape( - 1 , 1 )\n",
    "dense1.forward(testing_data_sample)\n",
    "activation1.forward(dense1.output)\n",
    "    \n",
    "dense2.forward(activation1.output)\n",
    "activation2.forward(dense2.output)\n",
    "    \n",
    "dense3.forward(activation2.output)\n",
    "activation3.forward(dense3.output)\n",
    "    \n",
    "dense4.forward(activation3.output)\n",
    "activation4.forward(dense4.output)\n",
    "    \n",
    "loss = loss_function.calculate(activation4.output, y)\n",
    "\n",
    "predictions = (activation4.output > 0.5 ) * 1\n",
    "accuracy = np.mean(predictions == y)\n",
    "print ( f'Testing accuracy: {accuracy: .3f} , ' +\n",
    "            f'Testing loss: {loss: .3f} ' )    "
   ]
  },
  {
   "cell_type": "code",
   "execution_count": 90,
   "id": "5389ddf2",
   "metadata": {},
   "outputs": [
    {
     "name": "stdout",
     "output_type": "stream",
     "text": [
      "Training data full size - 5216\n",
      "Testing data full size - 624\n",
      "Training data sample size - 1800\n",
      "Testing data sample size - 200\n",
      "No. epochs selected - 40\n"
     ]
    },
    {
     "name": "stderr",
     "output_type": "stream",
     "text": [
      "Loading Training Data: 100%|████████████████████████████████████████████████████| 1800/1800 [00:00<00:00, 60401.36it/s]\n",
      "Loading Testing Data: 100%|██████████████████████████████████████████████████████| 200/200 [00:00<00:00, 200062.20it/s]\n",
      "Training Network:  10%|██████▌                                                          | 4/40 [00:03<00:29,  1.24it/s]"
     ]
    },
    {
     "name": "stdout",
     "output_type": "stream",
     "text": [
      "epoch: 5 , acc: 0.498 , loss: 0.646 (data_loss: 0.635 , reg_loss: 0.011 ), lr: 0.000999700089973008 \n"
     ]
    },
    {
     "name": "stderr",
     "output_type": "stream",
     "text": [
      "Training Network:  22%|██████████████▋                                                  | 9/40 [00:07<00:25,  1.20it/s]"
     ]
    },
    {
     "name": "stdout",
     "output_type": "stream",
     "text": [
      "epoch: 10 , acc: 0.529 , loss: 0.559 (data_loss: 0.548 , reg_loss: 0.011 ), lr: 0.0009992006394884093 \n"
     ]
    },
    {
     "name": "stderr",
     "output_type": "stream",
     "text": [
      "Training Network:  35%|██████████████████████▍                                         | 14/40 [00:12<00:24,  1.06it/s]"
     ]
    },
    {
     "name": "stdout",
     "output_type": "stream",
     "text": [
      "epoch: 15 , acc: 0.467 , loss: 0.384 (data_loss: 0.373 , reg_loss: 0.011 ), lr: 0.0009987016878058523 \n"
     ]
    },
    {
     "name": "stderr",
     "output_type": "stream",
     "text": [
      "Training Network:  48%|██████████████████████████████▍                                 | 19/40 [00:16<00:18,  1.16it/s]"
     ]
    },
    {
     "name": "stdout",
     "output_type": "stream",
     "text": [
      "epoch: 20 , acc: 0.584 , loss: 0.401 (data_loss: 0.390 , reg_loss: 0.011 ), lr: 0.0009982032341784787 \n"
     ]
    },
    {
     "name": "stderr",
     "output_type": "stream",
     "text": [
      "Training Network:  60%|██████████████████████████████████████▍                         | 24/40 [00:20<00:12,  1.24it/s]"
     ]
    },
    {
     "name": "stdout",
     "output_type": "stream",
     "text": [
      "epoch: 25 , acc: 0.485 , loss: 0.301 (data_loss: 0.289 , reg_loss: 0.011 ), lr: 0.0009977052778609198 \n"
     ]
    },
    {
     "name": "stderr",
     "output_type": "stream",
     "text": [
      "Training Network:  72%|██████████████████████████████████████████████▍                 | 29/40 [00:24<00:08,  1.25it/s]"
     ]
    },
    {
     "name": "stdout",
     "output_type": "stream",
     "text": [
      "epoch: 30 , acc: 0.515 , loss: 0.238 (data_loss: 0.227 , reg_loss: 0.011 ), lr: 0.000997207818109294 \n"
     ]
    },
    {
     "name": "stderr",
     "output_type": "stream",
     "text": [
      "Training Network:  85%|██████████████████████████████████████████████████████▍         | 34/40 [00:28<00:04,  1.24it/s]"
     ]
    },
    {
     "name": "stdout",
     "output_type": "stream",
     "text": [
      "epoch: 35 , acc: 0.544 , loss: 0.203 (data_loss: 0.193 , reg_loss: 0.011 ), lr: 0.000996710854181202 \n"
     ]
    },
    {
     "name": "stderr",
     "output_type": "stream",
     "text": [
      "Training Network:  98%|██████████████████████████████████████████████████████████████▍ | 39/40 [00:32<00:00,  1.20it/s]"
     ]
    },
    {
     "name": "stdout",
     "output_type": "stream",
     "text": [
      "epoch: 40 , acc: 0.558 , loss: 0.183 (data_loss: 0.173 , reg_loss: 0.011 ), lr: 0.0009962143853357243 \n"
     ]
    },
    {
     "name": "stderr",
     "output_type": "stream",
     "text": [
      "Training Network: 100%|████████████████████████████████████████████████████████████████| 40/40 [00:33<00:00,  1.20it/s]"
     ]
    },
    {
     "name": "stdout",
     "output_type": "stream",
     "text": [
      "Testing accuracy:  0.805 , Testing loss:  0.470 \n"
     ]
    },
    {
     "name": "stderr",
     "output_type": "stream",
     "text": [
      "\n"
     ]
    }
   ],
   "source": [
    "#RANDOM SAMPLING WITHOUT REPLACEMENT\n",
    "print(f'Training data full size - {len(training_data)}')\n",
    "print(f'Testing data full size - {len(testing_data)}')\n",
    "\n",
    "#Parameters\n",
    "random.seed(10)\n",
    "trainingDataSize = 1800\n",
    "testingDataSize = 200\n",
    "noEpochs = 40\n",
    "\n",
    "print(f'Training data sample size - {trainingDataSize}')\n",
    "print(f'Testing data sample size - {testingDataSize}')\n",
    "print(f'No. epochs selected - {noEpochs}')\n",
    "\n",
    "training_data_sample=[]\n",
    "training_labels_sample=[]\n",
    "\n",
    "testing_data_sample=[]\n",
    "testing_labels_sample=[]\n",
    "\n",
    "# Training data\n",
    "normal_indices = list(range(len(NormalTraining)))\n",
    "pneumonia_indices = list(range(len(PneumoniaTraining)))\n",
    "\n",
    "for i in tqdm(range(trainingDataSize), desc=\"Loading Training Data\"):\n",
    "    randNum = random.randint(0, 1)\n",
    "    if randNum == 0 and len(normal_indices) > 0:\n",
    "        randData = random.sample(normal_indices, 1)[0]\n",
    "        normal_indices.remove(randData)\n",
    "        training_data_sample.append(NormalTraining[randData])\n",
    "        training_labels_sample.append(0)\n",
    "    elif randNum == 1 and len(pneumonia_indices) > 0:\n",
    "        randData = random.sample(pneumonia_indices, 1)[0]\n",
    "        pneumonia_indices.remove(randData)\n",
    "        training_data_sample.append(PneumoniaTraining[randData])\n",
    "        training_labels_sample.append(1)\n",
    "        \n",
    "# Testing data\n",
    "normal_indices = list(range(len(NormalTesting)))\n",
    "pneumonia_indices = list(range(len(PneumoniaTesting)))\n",
    "\n",
    "for i in tqdm(range(testingDataSize), desc=\"Loading Testing Data\"):\n",
    "    randNum = random.randint(0, 1)\n",
    "    if randNum == 0 and len(normal_indices) > 0:\n",
    "        randData = random.sample(normal_indices, 1)[0]\n",
    "        normal_indices.remove(randData)\n",
    "        testing_data_sample.append(NormalTesting[randData])\n",
    "        testing_labels_sample.append(0)\n",
    "    elif randNum == 1 and len(pneumonia_indices) > 0:\n",
    "        randData = random.sample(pneumonia_indices, 1)[0]\n",
    "        pneumonia_indices.remove(randData)\n",
    "        testing_data_sample.append(PneumoniaTesting[randData])\n",
    "        testing_labels_sample.append(1)\n",
    "        \n",
    "y=np.array(training_labels_sample)\n",
    "y = y.reshape( - 1 , 1 )\n",
    "\n",
    "dense1 = Layer_Dense( imageSize*imageSize , 1024 , weight_regularizer_l2 = 5e-5 ,\n",
    "                    bias_regularizer_l2 = 5e-5 )\n",
    "dense2 = Layer_Dense( 1024 , 512 )\n",
    "dense3 = Layer_Dense( 512 , 256 )\n",
    "dense4 = Layer_Dense( 256 , 1 )\n",
    "\n",
    "activation1 = Activation_TanH()\n",
    "activation2 = Activation_TanH()\n",
    "activation3 = Activation_TanH()\n",
    "activation4 = Activation_Sigmoid()\n",
    "\n",
    "# Create loss function\n",
    "loss_function = Loss_BinaryCrossentropy()\n",
    "# Create optimizer\n",
    "optimizer = Optimizer_Adam( learning_rate = 0.001 , decay = 0.0001 )\n",
    "\n",
    "for epoch in tqdm(range(1,noEpochs+1), desc = \"Training Network\"):\n",
    "    dense1.forward(np.array(training_data_sample))\n",
    "    activation1.forward(dense1.output)\n",
    "    \n",
    "    dense2.forward(activation1.output)\n",
    "    activation2.forward(dense2.output)\n",
    "    \n",
    "    dense3.forward(activation2.output)\n",
    "    activation3.forward(dense3.output)\n",
    "    \n",
    "    dense4.forward(activation3.output)\n",
    "    activation4.forward(dense4.output)\n",
    "    \n",
    "    data_loss = loss_function.calculate(activation4.output, y)\n",
    "    regularization_loss = \\\n",
    "        loss_function.regularization_loss(dense1) + \\\n",
    "        loss_function.regularization_loss(dense2)\n",
    "    loss = data_loss + regularization_loss\n",
    "    \n",
    "    predictions = (activation2.output > 0.5 ) * 1\n",
    "    accuracy = np.mean(predictions == y)\n",
    "    \n",
    "    if not epoch % 5 :\n",
    "        print ( f'epoch: {epoch} , ' +\n",
    "        f'acc: {accuracy:.3f} , ' +\n",
    "        f'loss: {loss:.3f} (' +\n",
    "        f'data_loss: {data_loss:.3f} , ' +\n",
    "        f'reg_loss: {regularization_loss:.3f} ), ' +\n",
    "        f'lr: {optimizer.current_learning_rate} ' )\n",
    "        \n",
    "        \n",
    "    # Backward pass\n",
    "    loss_function.backward(activation4.output, y)\n",
    "    activation4.backward(loss_function.dinputs)\n",
    "    dense4.backward(activation4.dinputs)\n",
    "    \n",
    "    activation3.backward(dense4.dinputs)\n",
    "    dense3.backward(activation3.dinputs)\n",
    "    \n",
    "    activation2.backward(dense3.dinputs)\n",
    "    dense2.backward(activation2.dinputs)\n",
    "    \n",
    "    activation1.backward(dense2.dinputs)\n",
    "    dense1.backward(np.array(activation1.dinputs))\n",
    "    \n",
    "    optimizer.pre_update_params()\n",
    "    optimizer.update_params(dense1)\n",
    "    optimizer.update_params(dense2)\n",
    "    optimizer.update_params(dense3)\n",
    "    optimizer.update_params(dense4)\n",
    "    optimizer.post_update_params()\n",
    "    \n",
    "\n",
    "    \n",
    "y=np.array(testing_labels_sample)\n",
    "y = y.reshape( - 1 , 1 )\n",
    "dense1.forward(testing_data_sample)\n",
    "activation1.forward(dense1.output)\n",
    "    \n",
    "dense2.forward(activation1.output)\n",
    "activation2.forward(dense2.output)\n",
    "    \n",
    "dense3.forward(activation2.output)\n",
    "activation3.forward(dense3.output)\n",
    "    \n",
    "dense4.forward(activation3.output)\n",
    "activation4.forward(dense4.output)\n",
    "    \n",
    "loss = loss_function.calculate(activation4.output, y)\n",
    "\n",
    "predictions = (activation4.output > 0.5 ) * 1\n",
    "accuracy = np.mean(predictions == y)\n",
    "print ( f'Testing accuracy: {accuracy: .3f} , ' +\n",
    "            f'Testing loss: {loss: .3f} ' )    "
   ]
  },
  {
   "cell_type": "code",
   "execution_count": null,
   "id": "94e89157",
   "metadata": {},
   "outputs": [],
   "source": []
  }
 ],
 "metadata": {
  "kernelspec": {
   "display_name": "Python 3 (ipykernel)",
   "language": "python",
   "name": "python3"
  },
  "language_info": {
   "codemirror_mode": {
    "name": "ipython",
    "version": 3
   },
   "file_extension": ".py",
   "mimetype": "text/x-python",
   "name": "python",
   "nbconvert_exporter": "python",
   "pygments_lexer": "ipython3",
   "version": "3.11.3"
  }
 },
 "nbformat": 4,
 "nbformat_minor": 5
}
